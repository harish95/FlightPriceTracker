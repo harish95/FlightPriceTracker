{
 "cells": [
  {
   "cell_type": "code",
   "execution_count": 2,
   "id": "94d70484-bd40-4d1b-bd9c-4702954afba8",
   "metadata": {},
   "outputs": [
    {
     "name": "stdout",
     "output_type": "stream",
     "text": [
      "Access Token: 70VVKLPb0C0FOow0XoHIYTEdAb8p\n"
     ]
    }
   ],
   "source": [
    "import requests\n",
    "import json\n",
    "import os\n",
    "import pandas as pd\n",
    "import numpy as np\n",
    "\n",
    "# Your Amadeus API credentials\n",
    "API_KEY = 'smU3kpIphxC2FEdQ5E0h6yF3hmvPCate'\n",
    "API_SECRET = 'DlIKozfpcoiC4KjQ'\n",
    "\n",
    "# Endpoint to get the access token\n",
    "token_url = 'https://test.api.amadeus.com/v1/security/oauth2/token'\n",
    "\n",
    "# Data to be sent for getting the token\n",
    "data = {\n",
    "    'grant_type': 'client_credentials',\n",
    "    'client_id': API_KEY,\n",
    "    'client_secret': API_SECRET\n",
    "}\n",
    "\n",
    "# Make the request to get the access token\n",
    "response = requests.post(token_url, data=data)\n",
    "\n",
    "# Parse the response to get the token\n",
    "token_response = response.json()\n",
    "access_token = token_response['access_token']\n",
    "\n",
    "print('Access Token:', access_token)\n"
   ]
  },
  {
   "cell_type": "code",
   "execution_count": 15,
   "id": "c399f492-aedb-4b9b-959f-d0c4fe2cf154",
   "metadata": {},
   "outputs": [],
   "source": [
    "\n",
    "flight_offers_url = 'https://test.api.amadeus.com/v2/shopping/flight-offers'\n",
    "\n",
    "headers = {'Authorization': f'Bearer {access_token}'}\n",
    "\n",
    "params = {\n",
    "    'originLocationCode': 'BOM',\n",
    "    'destinationLocationCode': 'DEL',\n",
    "    'departureDate': '2024-08-01',\n",
    "    'adults': 1,\n",
    "    'currencyCode': 'INR',\n",
    "    'nonStop': 'true'\n",
    "}\n",
    "\n",
    "# add returnDate parameter for return flights\n",
    "\n",
    "response = requests.get(url=flight_offers_url, headers=headers, params=params)\n",
    "\n",
    "result = response.json()\n"
   ]
  },
  {
   "cell_type": "code",
   "execution_count": 20,
   "id": "728ab488-b2fb-4a9b-8a46-81af7dc606b3",
   "metadata": {},
   "outputs": [],
   "source": [
    "flight_data = result['data']"
   ]
  },
  {
   "cell_type": "code",
   "execution_count": 37,
   "id": "d720a87d-4fb2-4753-8041-a282977c2510",
   "metadata": {},
   "outputs": [],
   "source": [
    "flights = []\n",
    "\n",
    "for flight in flight_data:\n",
    "    flight_info =  [flight['id'],\n",
    "                        flight['itineraries'][0]['segments'][0]['departure']['iataCode'],\n",
    "                       flight['itineraries'][0]['segments'][0]['arrival']['iataCode'],\n",
    "                       flight['itineraries'][0]['segments'][0]['departure']['at'],\n",
    "                       flight['itineraries'][0]['segments'][0]['arrival']['at'],\n",
    "                       flight['itineraries'][0]['segments'][0]['carrierCode'],\n",
    "                        flight['price']['total']]\n",
    "    flights.append(flight_info)\n",
    "\n"
   ]
  },
  {
   "cell_type": "code",
   "execution_count": 41,
   "id": "771d35cc-9130-4a99-b380-4cb4c4e77fde",
   "metadata": {},
   "outputs": [],
   "source": [
    "flight_data = pd.DataFrame(np.array(flights),columns=['id','source','destination','departure','arrival','carrier','price'])"
   ]
  },
  {
   "cell_type": "code",
   "execution_count": 46,
   "id": "4dd27537-7be6-45a0-9eaf-26d134440c59",
   "metadata": {},
   "outputs": [],
   "source": [
    "flight_data['price'] = flight_data['price'].astype(float)"
   ]
  },
  {
   "cell_type": "code",
   "execution_count": 48,
   "id": "21db9386-5966-4643-8178-803066467e8d",
   "metadata": {},
   "outputs": [],
   "source": [
    "cheapest_flights = flight_data.sort_values(by=['price'],ascending=True).head(3)"
   ]
  },
  {
   "cell_type": "code",
   "execution_count": 49,
   "id": "edb961b4-7283-41f6-a68c-73a0173cdc9d",
   "metadata": {},
   "outputs": [
    {
     "data": {
      "text/html": [
       "<div>\n",
       "<style scoped>\n",
       "    .dataframe tbody tr th:only-of-type {\n",
       "        vertical-align: middle;\n",
       "    }\n",
       "\n",
       "    .dataframe tbody tr th {\n",
       "        vertical-align: top;\n",
       "    }\n",
       "\n",
       "    .dataframe thead th {\n",
       "        text-align: right;\n",
       "    }\n",
       "</style>\n",
       "<table border=\"1\" class=\"dataframe\">\n",
       "  <thead>\n",
       "    <tr style=\"text-align: right;\">\n",
       "      <th></th>\n",
       "      <th>id</th>\n",
       "      <th>source</th>\n",
       "      <th>destination</th>\n",
       "      <th>departure</th>\n",
       "      <th>arrival</th>\n",
       "      <th>carrier</th>\n",
       "      <th>price</th>\n",
       "    </tr>\n",
       "  </thead>\n",
       "  <tbody>\n",
       "    <tr>\n",
       "      <th>0</th>\n",
       "      <td>1</td>\n",
       "      <td>BOM</td>\n",
       "      <td>DEL</td>\n",
       "      <td>2024-08-01T07:00:00</td>\n",
       "      <td>2024-08-01T09:15:00</td>\n",
       "      <td>AI</td>\n",
       "      <td>6415.0</td>\n",
       "    </tr>\n",
       "    <tr>\n",
       "      <th>1</th>\n",
       "      <td>2</td>\n",
       "      <td>BOM</td>\n",
       "      <td>DEL</td>\n",
       "      <td>2024-08-01T10:00:00</td>\n",
       "      <td>2024-08-01T12:15:00</td>\n",
       "      <td>AI</td>\n",
       "      <td>6415.0</td>\n",
       "    </tr>\n",
       "    <tr>\n",
       "      <th>2</th>\n",
       "      <td>3</td>\n",
       "      <td>BOM</td>\n",
       "      <td>DEL</td>\n",
       "      <td>2024-08-01T11:40:00</td>\n",
       "      <td>2024-08-01T13:55:00</td>\n",
       "      <td>AI</td>\n",
       "      <td>6415.0</td>\n",
       "    </tr>\n",
       "  </tbody>\n",
       "</table>\n",
       "</div>"
      ],
      "text/plain": [
       "  id source destination            departure              arrival carrier  \\\n",
       "0  1    BOM         DEL  2024-08-01T07:00:00  2024-08-01T09:15:00      AI   \n",
       "1  2    BOM         DEL  2024-08-01T10:00:00  2024-08-01T12:15:00      AI   \n",
       "2  3    BOM         DEL  2024-08-01T11:40:00  2024-08-01T13:55:00      AI   \n",
       "\n",
       "    price  \n",
       "0  6415.0  \n",
       "1  6415.0  \n",
       "2  6415.0  "
      ]
     },
     "execution_count": 49,
     "metadata": {},
     "output_type": "execute_result"
    }
   ],
   "source": [
    "cheapest_flights"
   ]
  },
  {
   "cell_type": "code",
   "execution_count": null,
   "id": "3333d28c-ea30-4312-9050-b208b373b345",
   "metadata": {},
   "outputs": [],
   "source": []
  }
 ],
 "metadata": {
  "kernelspec": {
   "display_name": "Python 3 (ipykernel)",
   "language": "python",
   "name": "python3"
  },
  "language_info": {
   "codemirror_mode": {
    "name": "ipython",
    "version": 3
   },
   "file_extension": ".py",
   "mimetype": "text/x-python",
   "name": "python",
   "nbconvert_exporter": "python",
   "pygments_lexer": "ipython3",
   "version": "3.11.7"
  }
 },
 "nbformat": 4,
 "nbformat_minor": 5
}
